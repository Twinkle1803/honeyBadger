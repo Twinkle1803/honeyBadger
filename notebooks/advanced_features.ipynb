{
 "cells": [
  {
   "cell_type": "markdown",
   "metadata": {},
   "source": [
    "# Advanced Features"
   ]
  },
  {
   "cell_type": "markdown",
   "metadata": {},
   "source": [
    "## Table of Contents\n",
    "* [1 Position Initialization](#position-initialization)\n",
    "    * [1.1 Scatter-Initialization](#scatter-initialization)\n",
    "        * Load data\n",
    "        * Define search space\n",
    "        * Initialize and run the optimizer\n",
    "    * [1.2 Warm-start](#warm-start)\n",
    "        * Load data\n",
    "        * Define search space\n",
    "        * Initialize and run the optimizer\n",
    "* [2 Resource Allocation](#resource-allocation)\n",
    "    * [2.1 Memory](#memory)\n",
    "        * Load data\n",
    "        * Define search space\n",
    "        * Initialize and run the optimizer\n",
    "* [3 Weight Initialization](#weight-initialization)\n",
    "    * [3.1 Transfer-Learning](#transfer-learning)\n",
    "        * Load data\n",
    "        * Define search space\n",
    "        * Initialize and run the optimizer"
   ]
  },
  {
   "cell_type": "code",
   "execution_count": 2,
   "metadata": {},
   "outputs": [],
   "source": [
    "# TODO"
   ]
  }
 ],
 "metadata": {
  "kernelspec": {
   "display_name": "Python 3",
   "language": "python",
   "name": "python3"
  },
  "language_info": {
   "codemirror_mode": {
    "name": "ipython",
    "version": 3
   },
   "file_extension": ".py",
   "mimetype": "text/x-python",
   "name": "python",
   "nbconvert_exporter": "python",
   "pygments_lexer": "ipython3",
   "version": "3.7.3"
  }
 },
 "nbformat": 4,
 "nbformat_minor": 2
}
