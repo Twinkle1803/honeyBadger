{
 "cells": [
  {
   "cell_type": "markdown",
   "metadata": {},
   "source": [
    "# Optimization Techniques"
   ]
  },
  {
   "cell_type": "markdown",
   "metadata": {},
   "source": [
    "## Table of Contents\n",
    "* [1 Load data](#load-data)\n",
    "* [2 Define search space](#define-search-space)\n",
    "* [3 Initialize and run the optimizers](#initialize-the-optimizers)\n",
    "    * [3.1 Local Search](#local-search)\n",
    "        * Hill Climbing\n",
    "    * [3.2 Initialize Stochastic Hill Climbing](#initialize-stochastic-hill-climbing)\n",
    "    * [3.3 Initialize Tabu Search](#initialize-tabu-search)"
   ]
  },
  {
   "cell_type": "code",
   "execution_count": 1,
   "metadata": {},
   "outputs": [],
   "source": [
    "# TODO"
   ]
  }
 ],
 "metadata": {
  "kernelspec": {
   "display_name": "Python 3",
   "language": "python",
   "name": "python3"
  },
  "language_info": {
   "codemirror_mode": {
    "name": "ipython",
    "version": 3
   },
   "file_extension": ".py",
   "mimetype": "text/x-python",
   "name": "python",
   "nbconvert_exporter": "python",
   "pygments_lexer": "ipython3",
   "version": "3.7.3"
  }
 },
 "nbformat": 4,
 "nbformat_minor": 2
}
