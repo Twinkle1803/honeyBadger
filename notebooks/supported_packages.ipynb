{
 "cells": [
  {
   "cell_type": "markdown",
   "metadata": {},
   "source": [
    "# Supported Packages"
   ]
  },
  {
   "cell_type": "markdown",
   "metadata": {},
   "source": [
    "## Table of Contents\n",
    "* [1 Machine Learning](#machine-learning)\n",
    "    * [1.1 Scikit-learn](#scikit-learn)\n",
    "        * Load data\n",
    "        * Define search space\n",
    "        * Initialize and run the optimizer\n",
    "    * [1.2 XGBoost](#xgboost)\n",
    "        * Load data\n",
    "        * Define search space\n",
    "        * Initialize and run the optimizer\n",
    "    * [1.3 LightGBM](#lightgbm)\n",
    "        * Load data\n",
    "        * Define search space\n",
    "        * Initialize and run the optimizer\n",
    "    * [1.4 CatBoost](#catboost)\n",
    "        * Load data\n",
    "        * Define search space\n",
    "        * Initialize and run the optimizer\n",
    "* [2 Deep Learning](#initialize-stochastic-hill-climbing)\n",
    "    * [2.1 Keras](#keras)\n",
    "        * Load data\n",
    "        * Define search space\n",
    "        * Initialize and run the optimizer\n",
    "* [3 Distribution](#initialize-tabu-search)\n",
    "    * [3.1 Multiprocessing](#multiprocessing)\n",
    "        * Load data\n",
    "        * Define search space\n",
    "        * Initialize and run the optimizer"
   ]
  },
  {
   "cell_type": "code",
   "execution_count": 1,
   "metadata": {},
   "outputs": [],
   "source": [
    "# TODO"
   ]
  }
 ],
 "metadata": {
  "kernelspec": {
   "display_name": "Python 3",
   "language": "python",
   "name": "python3"
  },
  "language_info": {
   "codemirror_mode": {
    "name": "ipython",
    "version": 3
   },
   "file_extension": ".py",
   "mimetype": "text/x-python",
   "name": "python",
   "nbconvert_exporter": "python",
   "pygments_lexer": "ipython3",
   "version": "3.7.3"
  }
 },
 "nbformat": 4,
 "nbformat_minor": 2
}
